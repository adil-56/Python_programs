{
 "cells": [
  {
   "cell_type": "code",
   "execution_count": 1,
   "id": "37c30e9c-d5c9-432b-93a6-5cb2c5ff70f4",
   "metadata": {},
   "outputs": [],
   "source": [
    "# Class and Object "
   ]
  },
  {
   "cell_type": "code",
   "execution_count": 2,
   "id": "e3c6adca-d951-4efd-b0ae-f5a9e7ecb708",
   "metadata": {},
   "outputs": [
    {
     "name": "stdout",
     "output_type": "stream",
     "text": [
      "Hii, WELCOME\n"
     ]
    }
   ],
   "source": [
    "class Python:\n",
    "    def fun(self):\n",
    "        print(\"Hii, WELCOME\")\n",
    "pyt = Python()\n",
    "pyt.fun()"
   ]
  },
  {
   "cell_type": "code",
   "execution_count": 3,
   "id": "28f3bbe1-5762-44e4-88e1-857079c88dfb",
   "metadata": {},
   "outputs": [
    {
     "name": "stdout",
     "output_type": "stream",
     "text": [
      "Name:  Lexus Id:  200102\n"
     ]
    }
   ],
   "source": [
    "class Car:\n",
    "    car = 0\n",
    "    def __init__(self,name,id1):\n",
    "        self.name = name\n",
    "        self.id1 = id1\n",
    "        Car.car+=1\n",
    "        \n",
    "    def printCard(self):\n",
    "        print(\"Name: \", self.name, \"Id: \", self.id1)\n",
    "\n",
    "c = Car(\"Lexus\", 200102)\n",
    "c.printCard()"
   ]
  },
  {
   "cell_type": "code",
   "execution_count": 4,
   "id": "2f119ee3-6960-4603-af8b-13dab3ff8925",
   "metadata": {},
   "outputs": [
    {
     "name": "stdout",
     "output_type": "stream",
     "text": [
      "Name: , Akbar Age:  20 Salary:  25000\n",
      "1\n"
     ]
    }
   ],
   "source": [
    "class Employee:\n",
    "    emp = 0\n",
    "    def set_data(self,name,age,salary):\n",
    "        self.name = name\n",
    "        self.age = age\n",
    "        self.salary = salary\n",
    "        self.emp += 1\n",
    "        \n",
    "    def details(self):\n",
    "        print(\"Name: ,\", self.name, \"Age: \", self.age, \"Salary: \", self.salary)\n",
    "        print(self.emp)\n",
    "\n",
    "c = Employee()\n",
    "c.set_data(\"Akbar\", 20, 25000)\n",
    "c.details()\n"
   ]
  },
  {
   "cell_type": "code",
   "execution_count": 5,
   "id": "1146291b-4920-47bf-8053-fdc713a7b96d",
   "metadata": {},
   "outputs": [
    {
     "name": "stdout",
     "output_type": "stream",
     "text": [
      "Parrot is having feather color Green\n",
      "Parrot beak size - Short , beak color - Blue\n"
     ]
    }
   ],
   "source": [
    "class Bird:\n",
    "    def __init__(self, name, feather_color, beak_size, beak_color):\n",
    "        self.name = name\n",
    "        self.feather_color = feather_color\n",
    "        self.beak_size = beak_size\n",
    "        self.beak_color = beak_color\n",
    "        \n",
    "    def Fly(self):\n",
    "        print(f'{self.name} is having feather color {self.feather_color}')\n",
    "    def speed(self):\n",
    "        print(f'{self.name} beak size - {self.beak_size} , beak color - {self.beak_color}')\n",
    "\n",
    "br = Bird(\"Parrot\", \"Green\",\"Short\",\"Blue\")\n",
    "br.Fly()\n",
    "br.speed()\n",
    "\n",
    "        "
   ]
  },
  {
   "cell_type": "code",
   "execution_count": 6,
   "id": "16f2561c-2607-4b69-a813-8b36ebc174a8",
   "metadata": {},
   "outputs": [
    {
     "name": "stdout",
     "output_type": "stream",
     "text": [
      "Positive 123\n"
     ]
    }
   ],
   "source": [
    "class Number:\n",
    "    def __init__(self, n):\n",
    "        self.number = n\n",
    "        \n",
    "    def check_num(self):\n",
    "        if self.number > 0:\n",
    "            print(\"Positive\",self.number)\n",
    "        else:\n",
    "            print(\"negative\", self.number)\n",
    "\n",
    "num = Number(123)\n",
    "num.check_num()        "
   ]
  },
  {
   "cell_type": "code",
   "execution_count": 7,
   "id": "02a60b1c-d676-4112-a872-564cb4e0cb17",
   "metadata": {},
   "outputs": [
    {
     "name": "stdout",
     "output_type": "stream",
     "text": [
      "10\n",
      "10000000\n",
      "10000000\n"
     ]
    }
   ],
   "source": [
    "class Test:\n",
    "    x = 10\n",
    "    print(x)\n",
    "    def __init__(self,r):\n",
    "        self.num = r\n",
    "        self.x = self.num\n",
    "    def ex(self):\n",
    "        print(self.x)\n",
    "\n",
    "t = Test(10000000)\n",
    "t.ex()\n",
    "print(t.x)"
   ]
  },
  {
   "cell_type": "code",
   "execution_count": 8,
   "id": "0bc73324-7c1e-4bd2-ba6f-c0f0481fa78e",
   "metadata": {},
   "outputs": [
    {
     "name": "stdout",
     "output_type": "stream",
     "text": [
      "Name:  Lexus Id:  200102\n",
      "Name:  AUDI Id:  200102\n",
      "Name:  BMW Id:  200102\n"
     ]
    }
   ],
   "source": [
    "class Car:\n",
    "    car = 0\n",
    "    def __init__(self,name,id1):\n",
    "        self.name = name\n",
    "        self.id1 = id1\n",
    "        Car.car+=1\n",
    "        \n",
    "    def printCard(self):\n",
    "        print(\"Name: \", self.name, \"Id: \", self.id1)\n",
    "\n",
    "c = Car(\"Lexus\", 200102)\n",
    "c1 = Car(\"AUDI\", 200102)\n",
    "c2 = Car(\"BMW\", 200102)\n",
    "c.printCard()\n",
    "c1.printCard()\n",
    "c2.printCard()"
   ]
  },
  {
   "cell_type": "code",
   "execution_count": 13,
   "id": "0c40ac7e-83d7-4192-a71b-bf5df36dcc34",
   "metadata": {},
   "outputs": [
    {
     "name": "stdout",
     "output_type": "stream",
     "text": [
      "Some Cat has Black with Grey color\n"
     ]
    }
   ],
   "source": [
    "class Cat:\n",
    "    def type(self,color, eyes):\n",
    "        self.color = color\n",
    "        self.eyes = eyes\n",
    "    def details(self):\n",
    "        print(f\"Some Cat has {self.color} with {self.eyes} color\")\n",
    "\n",
    "c1 = Cat()\n",
    "c1.type(\"Black\", \"Grey\")\n",
    "c1.details()"
   ]
  },
  {
   "cell_type": "code",
   "execution_count": null,
   "id": "51c74684-129a-4914-ab10-07fb666d9ea9",
   "metadata": {},
   "outputs": [],
   "source": []
  }
 ],
 "metadata": {
  "kernelspec": {
   "display_name": "Python 3 (ipykernel)",
   "language": "python",
   "name": "python3"
  },
  "language_info": {
   "codemirror_mode": {
    "name": "ipython",
    "version": 3
   },
   "file_extension": ".py",
   "mimetype": "text/x-python",
   "name": "python",
   "nbconvert_exporter": "python",
   "pygments_lexer": "ipython3",
   "version": "3.12.2"
  }
 },
 "nbformat": 4,
 "nbformat_minor": 5
}
