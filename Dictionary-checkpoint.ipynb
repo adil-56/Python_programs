{
 "cells": [
  {
   "cell_type": "code",
   "execution_count": 1,
   "id": "a088b171-611f-4f0b-b278-2bc7bcff5433",
   "metadata": {},
   "outputs": [],
   "source": [
    "dict1 = {\n",
    "    1 : \"Monday\",\n",
    "    2 : \"Tuesday\",\n",
    "    3 : \"Wednesday\"\n",
    "}"
   ]
  },
  {
   "cell_type": "code",
   "execution_count": 2,
   "id": "065e344c-ea03-4aee-a945-0fc75d4e3653",
   "metadata": {},
   "outputs": [
    {
     "data": {
      "text/plain": [
       "{1: 'Monday', 2: 'Tuesday', 3: 'Wednesday'}"
      ]
     },
     "execution_count": 2,
     "metadata": {},
     "output_type": "execute_result"
    }
   ],
   "source": [
    "dict1"
   ]
  },
  {
   "cell_type": "code",
   "execution_count": 3,
   "id": "03aad581-a278-4977-92c6-bb0750ca9840",
   "metadata": {},
   "outputs": [
    {
     "name": "stdout",
     "output_type": "stream",
     "text": [
      "Monday\n",
      "Tuesday\n",
      "Wednesday\n"
     ]
    }
   ],
   "source": [
    "for i in dict1.values():\n",
    "    print(i)"
   ]
  },
  {
   "cell_type": "code",
   "execution_count": 4,
   "id": "2a4d32e2-a598-4ec0-b6ba-c003f9ce13be",
   "metadata": {},
   "outputs": [
    {
     "name": "stdout",
     "output_type": "stream",
     "text": [
      "1 Monday\n",
      "2 Tuesday\n",
      "3 Wednesday\n"
     ]
    }
   ],
   "source": [
    "for i,j in dict1.items():\n",
    "    print(i,j)"
   ]
  },
  {
   "cell_type": "code",
   "execution_count": 5,
   "id": "63b2a604-2d3b-4059-9d87-9fa19f8c7cd3",
   "metadata": {},
   "outputs": [],
   "source": [
    "dict2 = {\n",
    "    1 : (2,4,5),\n",
    "    \"Name\" : \"Face\",\n",
    "    3 : [5,7]\n",
    "}"
   ]
  },
  {
   "cell_type": "code",
   "execution_count": 6,
   "id": "f075bf0b-4755-43ff-9c9a-3acf208fc0e3",
   "metadata": {},
   "outputs": [
    {
     "name": "stdout",
     "output_type": "stream",
     "text": [
      "1 (2, 4, 5)\n",
      "Name Face\n",
      "3 [5, 7]\n"
     ]
    }
   ],
   "source": [
    "for i,j in dict2.items():\n",
    "    print(i,j)"
   ]
  },
  {
   "cell_type": "code",
   "execution_count": 7,
   "id": "0b130829-e293-48be-a6d4-d2e98345cfa5",
   "metadata": {},
   "outputs": [],
   "source": [
    "myfamily = {\n",
    "    1: \"Akbar\",\n",
    "  \"child1\" : {\n",
    "    \"name\" : \"Emil\",\n",
    "    \"year\" : 2004\n",
    "  },\n",
    "  \"child2\" : {\n",
    "    \"name\" : \"Tobias\",\n",
    "    \"year\" : 2007\n",
    "  },\n",
    "  \"child3\" : {\n",
    "    \"name\" : \"Linus\",\n",
    "    \"year\" : 2011\n",
    "  }\n",
    "}"
   ]
  },
  {
   "cell_type": "code",
   "execution_count": 8,
   "id": "6310ff40-3983-41c6-8727-2f7f2c8d100e",
   "metadata": {},
   "outputs": [
    {
     "name": "stdout",
     "output_type": "stream",
     "text": [
      "1 Akbar\n",
      "child1 {'name': 'Emil', 'year': 2004}\n",
      "child2 {'name': 'Tobias', 'year': 2007}\n",
      "child3 {'name': 'Linus', 'year': 2011}\n"
     ]
    }
   ],
   "source": [
    "for i,j in myfamily.items():\n",
    "    print(i,j)"
   ]
  },
  {
   "cell_type": "code",
   "execution_count": 9,
   "id": "811c87bb-cacb-4598-aced-99cbbeef6896",
   "metadata": {},
   "outputs": [
    {
     "data": {
      "text/plain": [
       "{'a': 10, 'b': 20, 'c': 30, 'd': 40}"
      ]
     },
     "execution_count": 9,
     "metadata": {},
     "output_type": "execute_result"
    }
   ],
   "source": [
    "original = {'a':1,'b':2,'c':3,'d':4}\n",
    "\n",
    "tranform = {k: v * 10 for k,v in original.items()}\n",
    "tranform"
   ]
  },
  {
   "cell_type": "code",
   "execution_count": 13,
   "id": "8f646f0a-f843-495d-a81c-c242a7cbcc71",
   "metadata": {},
   "outputs": [
    {
     "data": {
      "text/plain": [
       "{1: {'square': 1, 'cube': 1, 'quar': 1},\n",
       " 2: {'square': 4, 'cube': 8, 'quar': 16},\n",
       " 3: {'square': 9, 'cube': 27, 'quar': 81},\n",
       " 4: {'square': 16, 'cube': 64, 'quar': 256}}"
      ]
     },
     "execution_count": 13,
     "metadata": {},
     "output_type": "execute_result"
    }
   ],
   "source": [
    "numbers = [1,2,3,4]\n",
    "nested_dict = {x: {'square': x**2, 'cube': x**3, 'quar' : x**4} for x in numbers}\n",
    "nested_dict"
   ]
  },
  {
   "cell_type": "code",
   "execution_count": 17,
   "id": "455e9308-5385-46da-bfde-e301566be3ea",
   "metadata": {},
   "outputs": [
    {
     "data": {
      "text/plain": [
       "{'a': 1, 'c': 3}"
      ]
     },
     "execution_count": 17,
     "metadata": {},
     "output_type": "execute_result"
    }
   ],
   "source": [
    "keys = ['a','b','c','d']\n",
    "value = [1,2,3,4]\n",
    "\n",
    "filtered_dict = {keys[i]: value[i]    for i in range(len(keys))     if i % 2 == 0}\n",
    "filtered_dict"
   ]
  },
  {
   "cell_type": "code",
   "execution_count": 23,
   "id": "ff48433b-5d74-4877-b9f2-76bef01af442",
   "metadata": {},
   "outputs": [
    {
     "data": {
      "text/plain": [
       "{'a': 1, 'b': 2, 'c': 3}"
      ]
     },
     "execution_count": 23,
     "metadata": {},
     "output_type": "execute_result"
    }
   ],
   "source": [
    "tuples = [('a',1),('b',2),('c',3)]\n",
    "\n",
    "my_dict = {key: value for key, value in tuples}\n",
    "my_dict"
   ]
  },
  {
   "cell_type": "code",
   "execution_count": 24,
   "id": "8c9919cb-2059-4851-938a-ea6f7eb500a8",
   "metadata": {},
   "outputs": [
    {
     "data": {
      "text/plain": [
       "{'a': 1, 'b': 2, 'c': 3, 'd': 0}"
      ]
     },
     "execution_count": 24,
     "metadata": {},
     "output_type": "execute_result"
    }
   ],
   "source": [
    "keys1 = ['a','b','c','d']\n",
    "value1 = [1,2,3]\n",
    "\n",
    "my_dict = {k:value1[i]  if i < len(value1) else 0 for i, k in enumerate(keys1)}\n",
    "\n",
    "my_dict"
   ]
  },
  {
   "cell_type": "code",
   "execution_count": null,
   "id": "0f79a9b3-5fac-4072-9e26-f7cefdabe9c4",
   "metadata": {},
   "outputs": [],
   "source": []
  }
 ],
 "metadata": {
  "kernelspec": {
   "display_name": "Python 3 (ipykernel)",
   "language": "python",
   "name": "python3"
  },
  "language_info": {
   "codemirror_mode": {
    "name": "ipython",
    "version": 3
   },
   "file_extension": ".py",
   "mimetype": "text/x-python",
   "name": "python",
   "nbconvert_exporter": "python",
   "pygments_lexer": "ipython3",
   "version": "3.12.2"
  }
 },
 "nbformat": 4,
 "nbformat_minor": 5
}
