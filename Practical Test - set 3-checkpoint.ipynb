{
 "cells": [
  {
   "cell_type": "code",
   "execution_count": 1,
   "id": "eb5a6a81-2590-4601-ac9a-03e4a1021a2b",
   "metadata": {},
   "outputs": [
    {
     "name": "stdout",
     "output_type": "stream",
     "text": [
      "Frequencies of elements in the list:\n",
      "1: 1\n",
      "2: 2\n",
      "3: 3\n",
      "4: 1\n"
     ]
    }
   ],
   "source": [
    "list1 = [1, 2, 2, 3, 3, 3, 4]\n",
    "\n",
    "frequency = {}\n",
    "\n",
    "for item in list1:\n",
    "    if item in frequency:\n",
    "        frequency[item] += 1\n",
    "    else:\n",
    "        frequency[item] = 1\n",
    "\n",
    "print(\"Frequencies of elements in the list:\")\n",
    "for key, value in frequency.items():\n",
    "    print(f\"{key}: {value}\")\n"
   ]
  },
  {
   "cell_type": "code",
   "execution_count": 2,
   "id": "93b67882-7586-4c1d-8227-66cbbd09946d",
   "metadata": {},
   "outputs": [
    {
     "name": "stdout",
     "output_type": "stream",
     "text": [
      "Number of uppercase letters: 3\n",
      "Number of lowercase letters: 13\n"
     ]
    }
   ],
   "source": [
    "def count_case(text):\n",
    "    uppercase_count = len([x for x in text if x.isupper()])\n",
    "    lowercase_count = len([x for x in text if x.islower()])\n",
    "    \n",
    "    return uppercase_count, lowercase_count\n",
    "\n",
    "text = \"The quick Brown Fox\"\n",
    "\n",
    "upper, lower = count_case(text)\n",
    "\n",
    "print(\"Number of uppercase letters:\", upper)\n",
    "print(\"Number of lowercase letters:\", lower)\n"
   ]
  },
  {
   "cell_type": "code",
   "execution_count": null,
   "id": "abae0311-d019-4c09-b446-88602d4b682f",
   "metadata": {},
   "outputs": [],
   "source": [
    "user_list = list(map(int, input().split()))\n",
    "\n",
    "result = [x * 2 for x in user_list if x >= 10]\n",
    "\n",
    "print(\"Resulting list:\", result)\n"
   ]
  },
  {
   "cell_type": "code",
   "execution_count": null,
   "id": "3ba2f88e-a56b-4f22-8121-1960de9093e8",
   "metadata": {},
   "outputs": [],
   "source": []
  }
 ],
 "metadata": {
  "kernelspec": {
   "display_name": "Python 3 (ipykernel)",
   "language": "python",
   "name": "python3"
  },
  "language_info": {
   "codemirror_mode": {
    "name": "ipython",
    "version": 3
   },
   "file_extension": ".py",
   "mimetype": "text/x-python",
   "name": "python",
   "nbconvert_exporter": "python",
   "pygments_lexer": "ipython3",
   "version": "3.12.2"
  }
 },
 "nbformat": 4,
 "nbformat_minor": 5
}
