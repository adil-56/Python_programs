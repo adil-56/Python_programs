{
 "cells": [
  {
   "cell_type": "code",
   "execution_count": 1,
   "id": "79380b68-2c21-453c-9131-c7ed286c7558",
   "metadata": {},
   "outputs": [
    {
     "name": "stdout",
     "output_type": "stream",
     "text": [
      "New Delhi is the capital of India.\n",
      "Hindi is the most widely spoken language of India.\n",
      "India is a developing country.\n",
      "\n",
      "\n",
      "Washington, D.C. is the capital of USA.\n",
      "English is the primary language of USA.\n",
      "USA is a developed country.\n"
     ]
    }
   ],
   "source": [
    "class India():\n",
    "    def capital(self):\n",
    "        print(\"New Delhi is the capital of India.\")\n",
    "\n",
    "    def language(self):\n",
    "        print(\"Hindi is the most widely spoken language of India.\")\n",
    "\n",
    "    def type(self):\n",
    "        print(\"India is a developing country.\")\n",
    "\n",
    "class USA():\n",
    "    def capital(self):\n",
    "        print(\"Washington, D.C. is the capital of USA.\")\n",
    "\n",
    "    def language(self):\n",
    "        print(\"English is the primary language of USA.\")\n",
    "\n",
    "    def type(self):\n",
    "        print(\"USA is a developed country.\")\n",
    "\n",
    "obj_ind = India()\n",
    "obj_usa = USA()\n",
    "obj_ind.capital()\n",
    "obj_ind.language()\n",
    "obj_ind.type()\n",
    "print(\"\\n\")\n",
    "obj_usa.capital()\n",
    "obj_usa.language()\n",
    "obj_usa.type()"
   ]
  },
  {
   "cell_type": "code",
   "execution_count": 2,
   "id": "3759382d-c1a6-46f9-9527-5249d9fc775e",
   "metadata": {},
   "outputs": [
    {
     "name": "stdout",
     "output_type": "stream",
     "text": [
      "Area of circle :  114\n",
      "Area of rectangle :  672\n"
     ]
    }
   ],
   "source": [
    "import math\n",
    "class Area:\n",
    "    def circle_area(self, arg1 = None, arg2 = None):\n",
    "        if arg1 != None and arg2 != None:\n",
    "            return arg1 * arg2\n",
    "        else:\n",
    "            return math.ceil(math.pi * arg1 ** 2)\n",
    "\n",
    "radius = 6\n",
    "length = 56\n",
    "breath = 12 \n",
    "\n",
    "obj = Area()\n",
    "print(\"Area of circle : \", obj.circle_area(radius))\n",
    "print(\"Area of rectangle : \", obj.circle_area(length,breath))"
   ]
  },
  {
   "cell_type": "code",
   "execution_count": 3,
   "id": "cbe37d70-79ad-4add-819c-54aa19e74fc9",
   "metadata": {},
   "outputs": [
    {
     "name": "stdout",
     "output_type": "stream",
     "text": [
      "Modulus: 1\n",
      "Power: 16\n"
     ]
    }
   ],
   "source": [
    "class Calculator:\n",
    "    def operation(self, a, b, c=None):\n",
    "        if c is None:\n",
    "            return a % b\n",
    "        else:\n",
    "            return (a ** b) ** c\n",
    "\n",
    "calc = Calculator()\n",
    "print(\"Modulus:\", calc.operation(10, 3))\n",
    "print(\"Power:\", calc.operation(2, 2, 2))\n"
   ]
  },
  {
   "cell_type": "code",
   "execution_count": 4,
   "id": "ad89a17f-1fe7-4296-98f4-1de723182c2b",
   "metadata": {},
   "outputs": [
    {
     "name": "stdin",
     "output_type": "stream",
     "text": [
      " 2.3\n",
      " 2.4\n",
      " 2.7\n"
     ]
    },
    {
     "name": "stdout",
     "output_type": "stream",
     "text": [
      "SBI Interest : 2.3\n",
      "IndianBank Interest : 2.4\n",
      "Canara Bank Interest : 2.7\n"
     ]
    }
   ],
   "source": [
    "class RBI:\n",
    "    def Interest(self):\n",
    "        return 0.0\n",
    "\n",
    "class SBI(RBI):\n",
    "    def __init__(self, rate):\n",
    "        self.rate = rate\n",
    "\n",
    "    def Interest(self):\n",
    "        return self.rate\n",
    "\n",
    "class IndianBank(RBI):\n",
    "    def __init__(self, rate):\n",
    "        self.rate = rate\n",
    "\n",
    "    def Interest(self):\n",
    "        return self.rate\n",
    "\n",
    "class Canara(RBI):\n",
    "    def __init__(self, rate):\n",
    "        self.rate = rate\n",
    "\n",
    "    def Interest(self):\n",
    "        return self.rate\n",
    "\n",
    "sbi_rate = float(input())\n",
    "indian_bank_rate = float(input())\n",
    "canara_rate = float(input())\n",
    "\n",
    "sbi = SBI(sbi_rate)\n",
    "indian_bank = IndianBank(indian_bank_rate)\n",
    "canara = Canara(canara_rate)\n",
    "\n",
    "print(f\"SBI Interest : {sbi.Interest()}\")\n",
    "print(f\"IndianBank Interest : {indian_bank.Interest()}\")\n",
    "print(f\"Canara Bank Interest : {canara.Interest()}\")"
   ]
  },
  {
   "cell_type": "code",
   "execution_count": 5,
   "id": "eada20b8-8916-4d0e-aaa9-61dacb75a941",
   "metadata": {},
   "outputs": [
    {
     "name": "stdin",
     "output_type": "stream",
     "text": [
      " cow\n",
      " tiger\n",
      " bear\n"
     ]
    },
    {
     "name": "stdout",
     "output_type": "stream",
     "text": [
      "cow : I am a Vegetarian\n",
      "tiger : I am a Non Vegetarian\n",
      "bear : I eat both\n"
     ]
    }
   ],
   "source": [
    "class Animal:\n",
    "    def breathe(self):\n",
    "        print(\"I breathe oxygen\")\n",
    "\n",
    "    def food(self):\n",
    "        print(\"I eat food\")\n",
    "\n",
    "class Herbivores(Animal):\n",
    "    def food(self, name):\n",
    "        print(f\"{name} : I am a Vegetarian\")\n",
    "\n",
    "class Carnivores(Animal):\n",
    "    def food(self, name):\n",
    "        print(f\"{name} : I am a Non Vegetarian\")\n",
    "\n",
    "class Omnivores(Animal):\n",
    "    def food(self, name):\n",
    "        print(f\"{name} : I eat both\")\n",
    "\n",
    "\n",
    "herbivore_name = input()\n",
    "carnivore_name = input()\n",
    "omnivore_name = input()\n",
    "\n",
    "\n",
    "herbivore = Herbivores()\n",
    "carnivore = Carnivores()\n",
    "omnivore = Omnivores()\n",
    "\n",
    "herbivore.food(herbivore_name)\n",
    "carnivore.food(carnivore_name)\n",
    "omnivore.food(omnivore_name)"
   ]
  },
  {
   "cell_type": "code",
   "execution_count": 6,
   "id": "f11fc494-0df7-44bd-a5c5-a1fe2192298f",
   "metadata": {},
   "outputs": [
    {
     "name": "stdin",
     "output_type": "stream",
     "text": [
      " 10\n",
      " 5\n"
     ]
    },
    {
     "name": "stdout",
     "output_type": "stream",
     "text": [
      "50\n",
      "25\n"
     ]
    }
   ],
   "source": [
    "class Shape:\n",
    "    def area(self, *args):\n",
    "        pass\n",
    "\n",
    "class Rectangle(Shape):\n",
    "    def area(self, l, b):\n",
    "        return l * b\n",
    "\n",
    "class Triangle(Shape):\n",
    "    def area(self, b, h):\n",
    "        return (b * h) // 2\n",
    "\n",
    "x = int(input())  \n",
    "y = int(input()) \n",
    "\n",
    "r = Rectangle()\n",
    "t = Triangle()\n",
    "\n",
    "ra = r.area(x, y)\n",
    "ta = t.area(x, y)\n",
    "\n",
    "print(ra)\n",
    "print(ta)\n"
   ]
  },
  {
   "cell_type": "code",
   "execution_count": null,
   "id": "2679a443-3b60-4f08-9e81-93aa697ac7ec",
   "metadata": {},
   "outputs": [],
   "source": []
  }
 ],
 "metadata": {
  "kernelspec": {
   "display_name": "Python 3 (ipykernel)",
   "language": "python",
   "name": "python3"
  },
  "language_info": {
   "codemirror_mode": {
    "name": "ipython",
    "version": 3
   },
   "file_extension": ".py",
   "mimetype": "text/x-python",
   "name": "python",
   "nbconvert_exporter": "python",
   "pygments_lexer": "ipython3",
   "version": "3.12.2"
  }
 },
 "nbformat": 4,
 "nbformat_minor": 5
}
