{
 "cells": [
  {
   "cell_type": "markdown",
   "id": "3511ee3c-d659-4f30-a558-50b43f28ef8f",
   "metadata": {},
   "source": [
    "# Variables"
   ]
  },
  {
   "cell_type": "code",
   "execution_count": 1,
   "id": "8ac0ac25-3abe-40e4-b4c5-ae0441c41e9f",
   "metadata": {},
   "outputs": [],
   "source": [
    "Bike_name = \"Royal Enfield\""
   ]
  },
  {
   "cell_type": "code",
   "execution_count": 2,
   "id": "293be4f0-f1c3-4ed5-8cb6-cff9164968c0",
   "metadata": {},
   "outputs": [
    {
     "data": {
      "text/plain": [
       "'Royal Enfield'"
      ]
     },
     "execution_count": 2,
     "metadata": {},
     "output_type": "execute_result"
    }
   ],
   "source": [
    "Bike_name"
   ]
  },
  {
   "cell_type": "code",
   "execution_count": 3,
   "id": "dad2d155-ddb9-4d23-807e-ac254967926f",
   "metadata": {},
   "outputs": [
    {
     "name": "stdout",
     "output_type": "stream",
     "text": [
      "Your result =  50\n"
     ]
    }
   ],
   "source": [
    "a = 10\n",
    "b = a * 5\n",
    "c = \"Your result = \"\n",
    "print(c,b)"
   ]
  },
  {
   "cell_type": "code",
   "execution_count": 4,
   "id": "7be7d2ab-8bb8-43f4-aaab-37db83c5b69d",
   "metadata": {},
   "outputs": [],
   "source": [
    "x,y,z = 50,\"Apple\",6"
   ]
  },
  {
   "cell_type": "markdown",
   "id": "203d0bf6-7233-43d4-a1b8-dbf1de599de5",
   "metadata": {},
   "source": [
    "# Constant "
   ]
  },
  {
   "cell_type": "code",
   "execution_count": 5,
   "id": "ab943c00-1c70-4bfc-8e7e-c3e2bbc7a30e",
   "metadata": {},
   "outputs": [],
   "source": [
    "import math"
   ]
  },
  {
   "cell_type": "code",
   "execution_count": 6,
   "id": "13890325-375b-4e64-bb55-59e9df487ef6",
   "metadata": {},
   "outputs": [
    {
     "data": {
      "text/plain": [
       "2.718281828459045"
      ]
     },
     "execution_count": 6,
     "metadata": {},
     "output_type": "execute_result"
    }
   ],
   "source": [
    "math.e ## Euler's number"
   ]
  },
  {
   "cell_type": "code",
   "execution_count": 7,
   "id": "f0fc0c7a-7fc4-403d-b628-445b1ec4e564",
   "metadata": {},
   "outputs": [
    {
     "data": {
      "text/plain": [
       "3.141592653589793"
      ]
     },
     "execution_count": 7,
     "metadata": {},
     "output_type": "execute_result"
    }
   ],
   "source": [
    "math.pi"
   ]
  },
  {
   "cell_type": "code",
   "execution_count": 8,
   "id": "f6237775-2088-4e87-948c-28c632f3b8ee",
   "metadata": {},
   "outputs": [
    {
     "data": {
      "text/plain": [
       "inf"
      ]
     },
     "execution_count": 8,
     "metadata": {},
     "output_type": "execute_result"
    }
   ],
   "source": [
    "math.inf "
   ]
  },
  {
   "cell_type": "code",
   "execution_count": 9,
   "id": "6a9eb3eb-dfae-41cd-988d-434465a6e638",
   "metadata": {},
   "outputs": [
    {
     "name": "stdout",
     "output_type": "stream",
     "text": [
      "314.1592653589793\n"
     ]
    }
   ],
   "source": [
    "p = 3.141592653589793\n",
    "r = 10\n",
    "print(p * r * r)"
   ]
  },
  {
   "cell_type": "code",
   "execution_count": 10,
   "id": "331e9f4e-137f-4f35-8e41-c15ef0c0ba50",
   "metadata": {},
   "outputs": [],
   "source": [
    "## print the constant infinity value of positive and negative "
   ]
  },
  {
   "cell_type": "code",
   "execution_count": 11,
   "id": "230acf18-4df0-467a-a045-22dd7916e0b2",
   "metadata": {},
   "outputs": [
    {
     "name": "stdout",
     "output_type": "stream",
     "text": [
      "Positive Infinity: inf\n",
      "Negative Infinity: -inf\n"
     ]
    }
   ],
   "source": [
    "import math\n",
    "\n",
    "positive_infinity = math.inf\n",
    "print(\"Positive Infinity:\", positive_infinity)\n",
    "\n",
    "negative_infinity = -math.inf\n",
    "print(\"Negative Infinity:\", negative_infinity)"
   ]
  },
  {
   "cell_type": "code",
   "execution_count": 12,
   "id": "661e9a59-d2c9-49d3-a5e8-4d42e830e420",
   "metadata": {},
   "outputs": [
    {
     "name": "stdout",
     "output_type": "stream",
     "text": [
      "2337.5\n"
     ]
    }
   ],
   "source": [
    "#Calculate the simple interest and display result\n",
    "Amount = 5000\n",
    "ri = 8.5\n",
    "tm = 5.5\n",
    "\n",
    "si = (Amount * ri * tm)/100\n",
    "print(si)"
   ]
  },
  {
   "cell_type": "code",
   "execution_count": 13,
   "id": "828ba799-4f7f-4568-8668-01e6ac55b07e",
   "metadata": {},
   "outputs": [
    {
     "name": "stdout",
     "output_type": "stream",
     "text": [
      "(7+8j) + (3.1+6j) = (10.1+14j)\n"
     ]
    }
   ],
   "source": [
    "a = (7 + 8j)\n",
    "b = (3.1 + 6j)\n",
    "print(a ,\"+\", b ,\"=\", (a+ b))\n"
   ]
  },
  {
   "cell_type": "code",
   "execution_count": 14,
   "id": "b4b0ed18-c29a-4a86-946b-436f613d39ab",
   "metadata": {},
   "outputs": [
    {
     "name": "stdout",
     "output_type": "stream",
     "text": [
      "False\n",
      "True\n",
      "False\n"
     ]
    }
   ],
   "source": [
    "x, y, z = 5,0,9\n",
    "\n",
    "print(y > z)\n",
    "print(x < z)\n",
    "print(y == z)"
   ]
  },
  {
   "cell_type": "markdown",
   "id": "bc4ef51b-2022-43ea-9a9e-3b080129c71c",
   "metadata": {},
   "source": [
    "# Data type"
   ]
  },
  {
   "cell_type": "code",
   "execution_count": 15,
   "id": "dce45f9a-2111-49b9-8c8a-adbc492dde6f",
   "metadata": {},
   "outputs": [
    {
     "data": {
      "text/plain": [
       "int"
      ]
     },
     "execution_count": 15,
     "metadata": {},
     "output_type": "execute_result"
    }
   ],
   "source": [
    "a = 100\n",
    "type(a)"
   ]
  },
  {
   "cell_type": "code",
   "execution_count": 16,
   "id": "adf03032-ce2d-4ff7-9d26-51a4f65cda98",
   "metadata": {},
   "outputs": [
    {
     "data": {
      "text/plain": [
       "float"
      ]
     },
     "execution_count": 16,
     "metadata": {},
     "output_type": "execute_result"
    }
   ],
   "source": [
    "b = 10.23\n",
    "type(b)"
   ]
  },
  {
   "cell_type": "code",
   "execution_count": 17,
   "id": "f9debb69-fcc1-44a9-b5f1-ca90fc5206bc",
   "metadata": {},
   "outputs": [
    {
     "data": {
      "text/plain": [
       "bool"
      ]
     },
     "execution_count": 17,
     "metadata": {},
     "output_type": "execute_result"
    }
   ],
   "source": [
    "c = True\n",
    "type(c)"
   ]
  },
  {
   "cell_type": "code",
   "execution_count": 18,
   "id": "a9747447-7261-491f-a70f-5ce99cdada6f",
   "metadata": {},
   "outputs": [
    {
     "name": "stdout",
     "output_type": "stream",
     "text": [
      "1j\n"
     ]
    }
   ],
   "source": [
    "str = \"1j\"\n",
    "print(str)"
   ]
  },
  {
   "cell_type": "markdown",
   "id": "67e0209c-8f7f-4bd6-92da-fa0c920315da",
   "metadata": {},
   "source": [
    "## Escape Quotes"
   ]
  },
  {
   "cell_type": "code",
   "execution_count": 19,
   "id": "f05e22ce-08f7-46e8-8c9d-8bf5cb2ebfc7",
   "metadata": {},
   "outputs": [],
   "source": [
    "# \\ Can be used to escape quotes"
   ]
  },
  {
   "cell_type": "code",
   "execution_count": 20,
   "id": "c9422b65-7091-43b9-a63c-34f10ab82b6e",
   "metadata": {},
   "outputs": [
    {
     "name": "stdout",
     "output_type": "stream",
     "text": [
      "We are the so-called \"Vikings\" from the north.\n"
     ]
    }
   ],
   "source": [
    "txt = \"We are the so-called \\\"Vikings\\\" from the north.\"\n",
    "print(txt)"
   ]
  },
  {
   "cell_type": "code",
   "execution_count": 21,
   "id": "64c48d51-ff45-4c25-9493-7dfd273f599a",
   "metadata": {},
   "outputs": [
    {
     "name": "stdout",
     "output_type": "stream",
     "text": [
      "It's alright.\n"
     ]
    }
   ],
   "source": [
    "txt1 = 'It\\'s alright.'\n",
    "print(txt1) \n"
   ]
  },
  {
   "cell_type": "code",
   "execution_count": 22,
   "id": "aead9cdf-ba7c-4d22-bcb8-6fef6f96dc0a",
   "metadata": {},
   "outputs": [
    {
     "name": "stdout",
     "output_type": "stream",
     "text": [
      "'\"Yes\", he.'\n"
     ]
    }
   ],
   "source": [
    "print('\\'\"Yes\", he.\\'')"
   ]
  },
  {
   "cell_type": "code",
   "execution_count": 23,
   "id": "11de9d28-ff1c-4697-ac2f-d1e47603a716",
   "metadata": {},
   "outputs": [
    {
     "name": "stdout",
     "output_type": "stream",
     "text": [
      "First \n",
      "second\n"
     ]
    }
   ],
   "source": [
    "print(\"First \\nsecond\")"
   ]
  },
  {
   "cell_type": "markdown",
   "id": "7fa34d2f-ac2b-4a62-8e44-cf99c8922d2e",
   "metadata": {},
   "source": [
    "## Raw string"
   ]
  },
  {
   "cell_type": "code",
   "execution_count": 24,
   "id": "953f4361-8e40-407b-b620-395437a68954",
   "metadata": {},
   "outputs": [
    {
     "name": "stdout",
     "output_type": "stream",
     "text": [
      "C:\\some\n",
      "ame\n"
     ]
    },
    {
     "name": "stderr",
     "output_type": "stream",
     "text": [
      "<>:1: SyntaxWarning: invalid escape sequence '\\s'\n",
      "<>:1: SyntaxWarning: invalid escape sequence '\\s'\n",
      "C:\\Users\\Akbarhusain\\AppData\\Local\\Temp\\ipykernel_13540\\3441249919.py:1: SyntaxWarning: invalid escape sequence '\\s'\n",
      "  print('C:\\some\\name')\n"
     ]
    }
   ],
   "source": [
    "print('C:\\some\\name')"
   ]
  },
  {
   "cell_type": "code",
   "execution_count": 25,
   "id": "b9d07de6-22b1-429f-bdea-ba0526060435",
   "metadata": {},
   "outputs": [
    {
     "name": "stdout",
     "output_type": "stream",
     "text": [
      "C:\\some\\name\n"
     ]
    }
   ],
   "source": [
    "print(r'C:\\some\\name') # r represent that (read the sentence as it is)"
   ]
  },
  {
   "cell_type": "code",
   "execution_count": 26,
   "id": "7acae201-e72e-4843-ac3b-eca901744f91",
   "metadata": {},
   "outputs": [
    {
     "ename": "TypeError",
     "evalue": "'str' object is not callable",
     "output_type": "error",
     "traceback": [
      "\u001b[1;31m---------------------------------------------------------------------------\u001b[0m",
      "\u001b[1;31mTypeError\u001b[0m                                 Traceback (most recent call last)",
      "Cell \u001b[1;32mIn[26], line 1\u001b[0m\n\u001b[1;32m----> 1\u001b[0m doc \u001b[38;5;241m=\u001b[39m \u001b[38;5;28;43mstr\u001b[39;49m\u001b[43m(\u001b[49m\u001b[38;5;124;43m\"\u001b[39;49m\u001b[38;5;124;43msle\u001b[39;49m\u001b[38;5;124;43m\"\u001b[39;49m\u001b[43m)\u001b[49m\n\u001b[0;32m      2\u001b[0m \u001b[38;5;28mprint\u001b[39m(\u001b[38;5;28mtype\u001b[39m(doc))\n",
      "\u001b[1;31mTypeError\u001b[0m: 'str' object is not callable"
     ]
    }
   ],
   "source": [
    "doc = str(\"sle\")\n",
    "print(type(doc))"
   ]
  },
  {
   "cell_type": "code",
   "execution_count": 27,
   "id": "92ac86f5-21ca-4f66-a8ca-2832791e9dda",
   "metadata": {},
   "outputs": [
    {
     "name": "stdout",
     "output_type": "stream",
     "text": [
      "<class 'str'>\n"
     ]
    }
   ],
   "source": [
    "doc1 = \"24 - aug - 2024\"\n",
    "print(type(doc1))"
   ]
  },
  {
   "cell_type": "markdown",
   "id": "3083f8be-6be8-42ac-8970-93d6067aa2a1",
   "metadata": {},
   "source": [
    "## Type conversion"
   ]
  },
  {
   "cell_type": "code",
   "execution_count": 28,
   "id": "ac0f1278-784c-47cb-91c0-95a874beacce",
   "metadata": {},
   "outputs": [
    {
     "data": {
      "text/plain": [
       "int"
      ]
     },
     "execution_count": 28,
     "metadata": {},
     "output_type": "execute_result"
    }
   ],
   "source": [
    "e = 180.3\n",
    "s = int(e)\n",
    "type(s)"
   ]
  },
  {
   "cell_type": "code",
   "execution_count": 3,
   "id": "084b86bc-bc74-4b01-bc85-0c91689b8da3",
   "metadata": {},
   "outputs": [
    {
     "name": "stdout",
     "output_type": "stream",
     "text": [
      "<class 'str'>\n",
      "<class 'int'>\n",
      "<class 'int'>\n",
      "18\n"
     ]
    }
   ],
   "source": [
    "age = \"20\"\n",
    "usera = int(40)\n",
    "vo_age = int(\"18\")\n",
    "\n",
    "print(type(age))\n",
    "print(type(usera))\n",
    "print(type(vo_age))"
   ]
  },
  {
   "cell_type": "code",
   "execution_count": 2,
   "id": "dc2f0d28-2617-4071-b4f3-0619467ea194",
   "metadata": {},
   "outputs": [
    {
     "data": {
      "text/plain": [
       "20"
      ]
     },
     "execution_count": 2,
     "metadata": {},
     "output_type": "execute_result"
    }
   ],
   "source": [
    "age = int(20.98)\n",
    "age"
   ]
  },
  {
   "cell_type": "code",
   "execution_count": null,
   "id": "4b9cc25c-49df-4796-813d-047692f1a856",
   "metadata": {},
   "outputs": [],
   "source": []
  }
 ],
 "metadata": {
  "kernelspec": {
   "display_name": "Python 3 (ipykernel)",
   "language": "python",
   "name": "python3"
  },
  "language_info": {
   "codemirror_mode": {
    "name": "ipython",
    "version": 3
   },
   "file_extension": ".py",
   "mimetype": "text/x-python",
   "name": "python",
   "nbconvert_exporter": "python",
   "pygments_lexer": "ipython3",
   "version": "3.12.2"
  }
 },
 "nbformat": 4,
 "nbformat_minor": 5
}
