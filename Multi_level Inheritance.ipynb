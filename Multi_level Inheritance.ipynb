{
 "cells": [
  {
   "cell_type": "code",
   "execution_count": 28,
   "id": "cb111d17-600f-4368-89d4-90e1cf1edd9b",
   "metadata": {},
   "outputs": [
    {
     "name": "stdout",
     "output_type": "stream",
     "text": [
      "Name : Akbar, ID : 11, Days: 6, Hours: 48\n",
      "Total Salary:  9000\n"
     ]
    }
   ],
   "source": [
    "class Person:\n",
    "    def __init__(self, name):\n",
    "        self.name = name\n",
    "\n",
    "    def display1(self):\n",
    "        print(\"Name : \", self.name)\n",
    "\n",
    "\n",
    "class Staff(Person):\n",
    "    def __init__(self, name, id1):\n",
    "        super().__init__(name)  \n",
    "        self.id1 = id1\n",
    "\n",
    "    def display2(self):\n",
    "        print(\"ID : \", self.id1)\n",
    "\n",
    "\n",
    "class TemporaryStaff(Staff):\n",
    "    def __init__(self, name, id1, num_day, hour):\n",
    "        super().__init__(name, id1)  \n",
    "        self.num_day = num_day\n",
    "        self.hour = hour\n",
    "\n",
    "    def display(self): \n",
    "        print(f\"Name : {self.name}, ID : {self.id1}, Days: {self.num_day}, Hours: {self.hour}\")\n",
    "\n",
    "    def Salary(self):\n",
    "        total_hours = self.num_day * 2 + self.hour  \n",
    "        tot = total_hours * 150\n",
    "        print(\"Total Salary: \", tot)\n",
    "\n",
    "\n",
    "ts = TemporaryStaff(\"Akbar\", 11, 6, 48)\n",
    "ts.display()\n",
    "ts.Salary()"
   ]
  },
  {
   "cell_type": "code",
   "execution_count": null,
   "id": "b71e1c09-feb7-486a-9e8d-331faa2e54c0",
   "metadata": {},
   "outputs": [],
   "source": []
  }
 ],
 "metadata": {
  "kernelspec": {
   "display_name": "Python 3 (ipykernel)",
   "language": "python",
   "name": "python3"
  },
  "language_info": {
   "codemirror_mode": {
    "name": "ipython",
    "version": 3
   },
   "file_extension": ".py",
   "mimetype": "text/x-python",
   "name": "python",
   "nbconvert_exporter": "python",
   "pygments_lexer": "ipython3",
   "version": "3.12.2"
  }
 },
 "nbformat": 4,
 "nbformat_minor": 5
}
